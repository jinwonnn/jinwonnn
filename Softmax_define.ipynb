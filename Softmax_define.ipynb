{
  "nbformat": 4,
  "nbformat_minor": 0,
  "metadata": {
    "colab": {
      "name": "Softmax_define.ipynb",
      "provenance": [],
      "authorship_tag": "ABX9TyMJETUewMwWKgQAxILlb8Y0",
      "include_colab_link": true
    },
    "kernelspec": {
      "name": "python3",
      "display_name": "Python 3"
    },
    "language_info": {
      "name": "python"
    }
  },
  "cells": [
    {
      "cell_type": "markdown",
      "metadata": {
        "id": "view-in-github",
        "colab_type": "text"
      },
      "source": [
        "<a href=\"https://colab.research.google.com/github/wozzin/AI_ML/blob/main/Softmax_define.ipynb\" target=\"_parent\"><img src=\"https://colab.research.google.com/assets/colab-badge.svg\" alt=\"Open In Colab\"/></a>"
      ]
    },
    {
      "cell_type": "markdown",
      "metadata": {
        "id": "kTHPoBjMtPEa"
      },
      "source": [
        "#### 소프트맥스\n",
        "\n",
        "- 세 개 이상 입력 값을 다루기 위함(다중분류)\n",
        "- 다항 로지스틱스\n",
        "\n",
        "> \\\\( { y }_{ k }=\\frac { exp({ a }_{ k }) }{ \\sum _{ i=1 }^{ n }{ exp({ a }_{ i }) }  }  \\\\)\n"
      ]
    },
    {
      "cell_type": "code",
      "metadata": {
        "id": "kRp6s-yTt1qD"
      },
      "source": [
        "import numpy as np\n"
      ],
      "execution_count": 4,
      "outputs": []
    },
    {
      "cell_type": "code",
      "metadata": {
        "colab": {
          "base_uri": "https://localhost:8080/"
        },
        "id": "8Drj4gJCtM6g",
        "outputId": "7f4f7cfd-fc63-4b1b-df5d-4391a54b61dd"
      },
      "source": [
        "score = [ -1, 0.5 , 1.0 , 1.5]\n",
        "\n",
        "prop = []\n",
        "sum = 0\n",
        "for s in score:\n",
        "  prop.append(np.exp(s))\n",
        "  sum += np.exp(s)\n",
        "\n",
        "prop / sum"
      ],
      "execution_count": 5,
      "outputs": [
        {
          "output_type": "execute_result",
          "data": {
            "text/plain": [
              "array([0.039915  , 0.17888661, 0.29493416, 0.48626423])"
            ]
          },
          "metadata": {
            "tags": []
          },
          "execution_count": 5
        }
      ]
    },
    {
      "cell_type": "code",
      "metadata": {
        "colab": {
          "base_uri": "https://localhost:8080/"
        },
        "id": "5_hcohC0twC2",
        "outputId": "26ca536c-972c-44b9-d98f-5e2387b3890d"
      },
      "source": [
        "a = np.array([0.3, 2.9, 4.0])\n",
        "exp_a = np.exp(a)\n",
        "print(exp_a)\n",
        "\n",
        "sum_exp_a = np.sum(exp_a)\n",
        "print(sum_exp_a)\n",
        "\n",
        "y = exp_a / sum_exp_a\n",
        "print(y)\n",
        "print( np.sum(y) )"
      ],
      "execution_count": 6,
      "outputs": [
        {
          "output_type": "stream",
          "text": [
            "[ 1.34985881 18.17414537 54.59815003]\n",
            "74.1221542101633\n",
            "[0.01821127 0.24519181 0.73659691]\n",
            "1.0\n"
          ],
          "name": "stdout"
        }
      ]
    },
    {
      "cell_type": "code",
      "metadata": {
        "id": "YQLKKMqOvb1Q"
      },
      "source": [
        "def softmax(a):\n",
        "  exp_a = np.exp(a)         # 지수함수\n",
        "  sum_exp_a = np.sum(exp_a) # 지수의 합\n",
        "  y = exp_a / sum_exp_a     # 확률\n",
        "  return y\n",
        "\n",
        "\n",
        "a = np.array([0.3, 2.9, 4.0])\n",
        "y = softmax(a)"
      ],
      "execution_count": 9,
      "outputs": []
    },
    {
      "cell_type": "code",
      "metadata": {
        "colab": {
          "base_uri": "https://localhost:8080/"
        },
        "id": "PsKLU3iCvesw",
        "outputId": "7d85ffc9-f287-4bde-e6a6-4011035914c7"
      },
      "source": [
        "# 오버플로우 대책\n",
        "def softmax(a):\n",
        "  c = np.max(a)\n",
        "  exp_a = np.exp(a - c)         # 지수함수\n",
        "  y = exp_a / np.sum(exp_a) # 지수의 합, 확률\n",
        "  return y\n",
        "\n",
        "\n",
        "a = np.array([1010, 1000, 990])\n",
        "y = softmax(a)\n",
        "print(y)\n",
        "print( np.sum(y) )"
      ],
      "execution_count": 8,
      "outputs": [
        {
          "output_type": "stream",
          "text": [
            "[9.99954600e-01 4.53978686e-05 2.06106005e-09]\n",
            "1.0\n"
          ],
          "name": "stdout"
        }
      ]
    },
    {
      "cell_type": "code",
      "metadata": {
        "id": "02Cgp5pDwrxg"
      },
      "source": [
        ""
      ],
      "execution_count": null,
      "outputs": []
    }
  ]
}