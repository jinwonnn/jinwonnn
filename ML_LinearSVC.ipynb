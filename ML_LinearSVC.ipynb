{
  "nbformat": 4,
  "nbformat_minor": 0,
  "metadata": {
    "colab": {
      "name": "ML_LinearSVC.ipynb",
      "provenance": [],
      "collapsed_sections": [],
      "authorship_tag": "ABX9TyNvawhB/Dev9qeK+4KpqydA",
      "include_colab_link": true
    },
    "kernelspec": {
      "name": "python3",
      "display_name": "Python 3"
    },
    "language_info": {
      "name": "python"
    }
  },
  "cells": [
    {
      "cell_type": "markdown",
      "metadata": {
        "id": "view-in-github",
        "colab_type": "text"
      },
      "source": [
        "<a href=\"https://colab.research.google.com/github/wozzin/AI_ML/blob/main/ML_LinearSVC.ipynb\" target=\"_parent\"><img src=\"https://colab.research.google.com/assets/colab-badge.svg\" alt=\"Open In Colab\"/></a>"
      ]
    },
    {
      "cell_type": "code",
      "metadata": {
        "id": "IzQ5A6t-z0BP"
      },
      "source": [
        "# Linear SCV"
      ],
      "execution_count": null,
      "outputs": []
    },
    {
      "cell_type": "code",
      "metadata": {
        "id": "z2sZznEdz6D8"
      },
      "source": [
        "from sklearn.datasets import load_wine\n",
        "\n",
        "# 데이터 로드\n",
        "wine = load_wine()"
      ],
      "execution_count": 1,
      "outputs": []
    },
    {
      "cell_type": "code",
      "metadata": {
        "colab": {
          "base_uri": "https://localhost:8080/"
        },
        "id": "T6dJKleAz7Cg",
        "outputId": "0427a3b0-c44e-4027-9439-16e1acecd132"
      },
      "source": [
        "# 훈련(학습)셋 및 테스트(평가)셋 분리\n",
        "from sklearn.model_selection import train_test_split\n",
        "X = wine.data\n",
        "y = wine.target\n",
        "X_train, X_test, y_train, y_test = train_test_split(X, y, random_state=0)\n",
        "X_train.shape"
      ],
      "execution_count": 9,
      "outputs": [
        {
          "output_type": "execute_result",
          "data": {
            "text/plain": [
              "(133, 13)"
            ]
          },
          "metadata": {
            "tags": []
          },
          "execution_count": 9
        }
      ]
    },
    {
      "cell_type": "code",
      "metadata": {
        "colab": {
          "base_uri": "https://localhost:8080/"
        },
        "id": "hzEyeJzSz9DK",
        "outputId": "503c757a-83f9-40c8-cb94-15c3fb6afce6"
      },
      "source": [
        "# 모델학습\n",
        "from sklearn.svm import LinearSVC\n",
        "\n",
        "model = LinearSVC(C=10, max_iter=10000).fit(X_train, y_train)"
      ],
      "execution_count": 10,
      "outputs": [
        {
          "output_type": "stream",
          "text": [
            "/usr/local/lib/python3.7/dist-packages/sklearn/svm/_base.py:947: ConvergenceWarning: Liblinear failed to converge, increase the number of iterations.\n",
            "  \"the number of iterations.\", ConvergenceWarning)\n"
          ],
          "name": "stderr"
        }
      ]
    },
    {
      "cell_type": "code",
      "metadata": {
        "colab": {
          "base_uri": "https://localhost:8080/"
        },
        "id": "b8TI_jxA0Vjm",
        "outputId": "25656442-c533-4792-e395-c717e8ecb08c"
      },
      "source": [
        "# 스코어 확인\n",
        "model.score(X_train, y_train), model.score(X_test, y_test)"
      ],
      "execution_count": 11,
      "outputs": [
        {
          "output_type": "execute_result",
          "data": {
            "text/plain": [
              "(0.9323308270676691, 0.9111111111111111)"
            ]
          },
          "metadata": {
            "tags": []
          },
          "execution_count": 11
        }
      ]
    },
    {
      "cell_type": "code",
      "metadata": {
        "colab": {
          "base_uri": "https://localhost:8080/"
        },
        "id": "STqjS_9V026Q",
        "outputId": "cd51db4e-41a1-4906-bc05-f6d9e78e2e73"
      },
      "source": [
        "# 예측\n",
        "y_pred = model.predict(X_test)\n",
        "y_pred"
      ],
      "execution_count": 12,
      "outputs": [
        {
          "output_type": "execute_result",
          "data": {
            "text/plain": [
              "array([0, 2, 1, 0, 1, 1, 0, 2, 1, 1, 2, 2, 0, 1, 2, 1, 0, 0, 2, 0, 1, 0,\n",
              "       1, 1, 2, 1, 1, 1, 2, 2, 0, 0, 1, 0, 0, 0, 2, 1, 1, 2, 0, 0, 1, 1,\n",
              "       1])"
            ]
          },
          "metadata": {
            "tags": []
          },
          "execution_count": 12
        }
      ]
    },
    {
      "cell_type": "code",
      "metadata": {
        "id": "fetqaBHL0_Wt"
      },
      "source": [
        "# 붓꽃데이터 분류\n",
        "# 데이터 로드\n",
        "from sklearn.datasets import load_iris\n",
        "iris = load_iris()"
      ],
      "execution_count": 13,
      "outputs": []
    },
    {
      "cell_type": "code",
      "metadata": {
        "id": "RJD544GE1EE6"
      },
      "source": [
        "# 훈련셋 및 테스트셋 분리\n",
        "from sklearn.model_selection import train_test_split\n",
        "\n",
        "X = iris.data\n",
        "y = iris.target\n",
        "X_train, X_test, y_train, y_test = train_test_split(X, y, random_state=0)\n",
        "X_train.shape"
      ],
      "execution_count": null,
      "outputs": []
    },
    {
      "cell_type": "code",
      "metadata": {
        "id": "fUuHjRj-fEaR"
      },
      "source": [
        "# 모델학습\n",
        "from sklearn.svm import LinearSVC\n",
        "\n",
        "model = LinearSVC(C=10, max_iter=10000).fit(X_train, y_train)"
      ],
      "execution_count": null,
      "outputs": []
    },
    {
      "cell_type": "code",
      "metadata": {
        "id": "F78w-UXpfaKS"
      },
      "source": [
        "# 스코어 확인\n",
        "model.score(X_train, y_train), model.score(X_test, y_test)"
      ],
      "execution_count": null,
      "outputs": []
    },
    {
      "cell_type": "code",
      "metadata": {
        "id": "jCpX70usfe_s",
        "colab": {
          "base_uri": "https://localhost:8080/"
        },
        "outputId": "189c6a7c-478c-4620-f182-3bbe5e96e1ef"
      },
      "source": [
        "# 예측\n",
        "y_pred = model.predict(X_test)\n",
        "y_pred\n"
      ],
      "execution_count": 14,
      "outputs": [
        {
          "output_type": "execute_result",
          "data": {
            "text/plain": [
              "array([0, 2, 1, 0, 1, 1, 0, 2, 1, 1, 2, 2, 0, 1, 2, 1, 0, 0, 2, 0, 1, 0,\n",
              "       1, 1, 2, 1, 1, 1, 2, 2, 0, 0, 1, 0, 0, 0, 2, 1, 1, 2, 0, 0, 1, 1,\n",
              "       1])"
            ]
          },
          "metadata": {
            "tags": []
          },
          "execution_count": 14
        }
      ]
    },
    {
      "cell_type": "markdown",
      "metadata": {
        "id": "FCMu9LmL3uca"
      },
      "source": [
        "## Linear SVC와 Logistic Regression의 장단점\n",
        "\n",
        "- 선형 모델의 주요 매개변수는 회귀 모델에서는 alpha였고 LinearSVC와 LogisticRegression에서는 C\n",
        "- alpha 값이 클수록, C 값이 작을수록 모델이 단순해짐\n",
        "- 회귀 모델에서 이 매개변수를 조정하는 일이 매우 중요\n",
        "\n",
        "- L1 규제를 사용할지 L2 규제를 사용할지를 정해야 함\n",
        "- 중요한 특성이 많지 않다고 생각하면 L1 규제를 사용하고 그렇지 않으면 기본적으로 L2 규제를 사용\n",
        "\n",
        "- 선형 모델은 학습 속도가 빠르고 예측도 빠름\n",
        "- 매우 큰 데이터셋과 희소한 데이터셋에도 잘 작동\n",
        "- 수십만에서 수백만 개의 샘플로 이뤄진 대용량 데이터셋이라면 기본 설정보다 빨리 처리하도록 LogisticRegression과 Ridge에 solver=’sag’ 옵션을 줌\n",
        "\n",
        "- 선형 모델은 샘플에 비해 특성이 많을 때 잘 작동\n",
        "- 다른 모델로 학습하기 어려운 매우 큰 데이터셋에도 선형 모델을 많이 사용"
      ]
    },
    {
      "cell_type": "code",
      "metadata": {
        "id": "xmcd7ObL3sfp"
      },
      "source": [
        ""
      ],
      "execution_count": null,
      "outputs": []
    }
  ]
}