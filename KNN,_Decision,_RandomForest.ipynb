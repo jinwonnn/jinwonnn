{
  "nbformat": 4,
  "nbformat_minor": 0,
  "metadata": {
    "colab": {
      "name": "KNN, Decision, RandomForest.ipynb",
      "provenance": [],
      "authorship_tag": "ABX9TyObaQW56aiBArHeZB6or9UU",
      "include_colab_link": true
    },
    "kernelspec": {
      "name": "python3",
      "display_name": "Python 3"
    },
    "language_info": {
      "name": "python"
    }
  },
  "cells": [
    {
      "cell_type": "markdown",
      "metadata": {
        "id": "view-in-github",
        "colab_type": "text"
      },
      "source": [
        "<a href=\"https://colab.research.google.com/github/wozzin/AI_ML/blob/main/KNN%2C_Decision%2C_RandomForest.ipynb\" target=\"_parent\"><img src=\"https://colab.research.google.com/assets/colab-badge.svg\" alt=\"Open In Colab\"/></a>"
      ]
    },
    {
      "cell_type": "code",
      "metadata": {
        "id": "HQuh1fx6pRXN"
      },
      "source": [
        "#모델비교 (kNN, 결정트리, 랜덤포레스트)"
      ],
      "execution_count": 1,
      "outputs": []
    },
    {
      "cell_type": "code",
      "metadata": {
        "id": "cG_gMZAPpZ_y"
      },
      "source": [
        "import numpy as np\n",
        "import pandas as pd\n",
        "import matplotlib.pyplot as plt\n",
        "import matplotlib.gridspec as gridspec\n",
        "import seaborn as sns \n",
        "from sklearn.model_selection import train_test_split\n",
        "from sklearn.linear_model import LogisticRegression\n",
        "from sklearn.model_selection import KFold   # K-fold cross validation\n",
        "from sklearn import metrics\n",
        "from sklearn.datasets import load_breast_cancer"
      ],
      "execution_count": 2,
      "outputs": []
    },
    {
      "cell_type": "code",
      "metadata": {
        "id": "8XfBeTLjpc24"
      },
      "source": [
        "cancer = load_breast_cancer()"
      ],
      "execution_count": 3,
      "outputs": []
    },
    {
      "cell_type": "code",
      "metadata": {
        "colab": {
          "base_uri": "https://localhost:8080/"
        },
        "id": "mmKwIaPcpeNB",
        "outputId": "6606c5f9-bc1d-4588-bfe1-61210641a36a"
      },
      "source": [
        "X = cancer.data\n",
        "y = cancer.target\n",
        "X_train, X_test, y_train, y_test = train_test_split(X, y, random_state=0)\n",
        "X_train.shape"
      ],
      "execution_count": 4,
      "outputs": [
        {
          "output_type": "execute_result",
          "data": {
            "text/plain": [
              "(426, 30)"
            ]
          },
          "metadata": {
            "tags": []
          },
          "execution_count": 4
        }
      ]
    },
    {
      "cell_type": "code",
      "metadata": {
        "colab": {
          "base_uri": "https://localhost:8080/"
        },
        "id": "4tdRhNqDpfr-",
        "outputId": "4fa21ea4-13d0-4094-f900-01bf339d970d"
      },
      "source": [
        "# 모든 속성을 다 사용하여 로지스틱 회귀 분석을 수행\n",
        "model = LogisticRegression(C=1, max_iter=10000).fit(X_train, y_train)\n",
        "model.score(X_train, y_train), model.score(X_test, y_test)"
      ],
      "execution_count": 5,
      "outputs": [
        {
          "output_type": "execute_result",
          "data": {
            "text/plain": [
              "(0.960093896713615, 0.951048951048951)"
            ]
          },
          "metadata": {
            "tags": []
          },
          "execution_count": 5
        }
      ]
    },
    {
      "cell_type": "code",
      "metadata": {
        "colab": {
          "base_uri": "https://localhost:8080/"
        },
        "id": "GJhc3XAeqIbF",
        "outputId": "b75b917d-ac6f-42a2-f6f5-68a6c43e9384"
      },
      "source": [
        "# 모든 속성을 다 사용한 경우의 kNN의 성능\n",
        "from sklearn.neighbors import KNeighborsClassifier  \n",
        "\n",
        "for n in range(1, 21, 2):\n",
        "  model = KNeighborsClassifier(n_neighbors=n).fit(X_train, y_train)\n",
        "  print(f'k ={n}', model.score(X_train, y_train), model.score(X_test, y_test))"
      ],
      "execution_count": 10,
      "outputs": [
        {
          "output_type": "stream",
          "text": [
            "k =1 1.0 0.916083916083916\n",
            "k =3 0.9577464788732394 0.9230769230769231\n",
            "k =5 0.9413145539906104 0.9370629370629371\n",
            "k =7 0.9389671361502347 0.9440559440559441\n",
            "k =9 0.9366197183098591 0.958041958041958\n",
            "k =11 0.9366197183098591 0.958041958041958\n",
            "k =13 0.9342723004694836 0.958041958041958\n",
            "k =15 0.9366197183098591 0.958041958041958\n",
            "k =17 0.9295774647887324 0.958041958041958\n",
            "k =19 0.9295774647887324 0.958041958041958\n"
          ],
          "name": "stdout"
        }
      ]
    },
    {
      "cell_type": "code",
      "metadata": {
        "colab": {
          "base_uri": "https://localhost:8080/"
        },
        "id": "PF4TuJYTqYUF",
        "outputId": "fee633c1-2ebb-4ca9-c6f8-4f2cf61611dc"
      },
      "source": [
        "# DecisionTreeClassifier\n",
        "from sklearn.tree import DecisionTreeClassifier\n",
        "\n",
        "model = DecisionTreeClassifier(random_state=42).fit(X_train, y_train)\n",
        "model.score(X_train, y_train), model.score(X_test, y_test)"
      ],
      "execution_count": 12,
      "outputs": [
        {
          "output_type": "execute_result",
          "data": {
            "text/plain": [
              "(1.0, 0.916083916083916)"
            ]
          },
          "metadata": {
            "tags": []
          },
          "execution_count": 12
        }
      ]
    },
    {
      "cell_type": "code",
      "metadata": {
        "colab": {
          "base_uri": "https://localhost:8080/"
        },
        "id": "0JZTssjJrFXm",
        "outputId": "c9ce02c9-4738-4331-d337-c7e63cb159d4"
      },
      "source": [
        "# RandomForestClassifier\n",
        "from sklearn.ensemble import RandomForestClassifier\n",
        "\n",
        "model = RandomForestClassifier(n_estimators=100, random_state=0).fit(X_train, y_train)\n",
        "model.score(X_train, y_train), model.score(X_test, y_test)"
      ],
      "execution_count": 18,
      "outputs": [
        {
          "output_type": "execute_result",
          "data": {
            "text/plain": [
              "(1.0, 0.972027972027972)"
            ]
          },
          "metadata": {
            "tags": []
          },
          "execution_count": 18
        }
      ]
    },
    {
      "cell_type": "code",
      "metadata": {
        "id": "ICNYlxhVrs6I"
      },
      "source": [
        ""
      ],
      "execution_count": null,
      "outputs": []
    }
  ]
}