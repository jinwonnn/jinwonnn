{
  "nbformat": 4,
  "nbformat_minor": 0,
  "metadata": {
    "colab": {
      "name": "ML_Ridge_Lasso_Regression.ipynb",
      "provenance": [],
      "collapsed_sections": [],
      "authorship_tag": "ABX9TyOpUOGWYZGtjtx+50xao7Q+",
      "include_colab_link": true
    },
    "kernelspec": {
      "name": "python3",
      "display_name": "Python 3"
    },
    "language_info": {
      "name": "python"
    }
  },
  "cells": [
    {
      "cell_type": "markdown",
      "metadata": {
        "id": "view-in-github",
        "colab_type": "text"
      },
      "source": [
        "<a href=\"https://colab.research.google.com/github/wozzin/AI_ML/blob/main/ML_Ridge_Lasso_Regression.ipynb\" target=\"_parent\"><img src=\"https://colab.research.google.com/assets/colab-badge.svg\" alt=\"Open In Colab\"/></a>"
      ]
    },
    {
      "cell_type": "code",
      "metadata": {
        "id": "dEM5Ayp1YLr3"
      },
      "source": [
        ""
      ],
      "execution_count": null,
      "outputs": []
    },
    {
      "cell_type": "markdown",
      "metadata": {
        "id": "47qMba0tY-ar"
      },
      "source": [
        "# 지도학습 - 규제선형모델 (Ridge_Lasso_Regression)\n"
      ]
    },
    {
      "cell_type": "markdown",
      "metadata": {
        "id": "hZLvFKN3ZBgk"
      },
      "source": [
        "Linear Regression의 문제\n",
        "\n",
        "- 단순 선형회귀 : 단 하나의 특성(feature)을 가지고 라벨값(label) 또는 타깃(target)을 예측하기 위한\n",
        "회귀 모델을 찾는 것\n",
        "- 다중 선형회귀 : 여러 개의 특성을 활용해서 회귀모델을 찾는 것\n",
        "\n",
        "\n"
      ]
    },
    {
      "cell_type": "markdown",
      "metadata": {
        "id": "Q_dfNzOlZEDv"
      },
      "source": [
        "다중 선형 회귀 모델은 과대적합(overfitting) 될 때가 종종 발생\n",
        "\n",
        "주어진 샘플들의 특성값들과 라벨값의 관계를 필요이상으로 너무 자세하게 복잡하게 분석했다는 것\n",
        "- 새로운 데이터가 주어졌을 때 제대로 예측해내기가 어려움 (일반화 능력이 떨어짐)\n",
        "- Ridge / Lasso / Elastic Regression 등장"
      ]
    },
    {
      "cell_type": "markdown",
      "metadata": {
        "id": "YEsFxHsHZGOU"
      },
      "source": [
        "Bias(편향) 오차와 Variance(분산) 오차\n",
        "\n",
        "특성이 증가하면 복잡성이 증가 -> variance는 증가, bias는 감소 -> Overfitting 발생\n",
        "\n",
        "<center>\n",
        " <img src=\"https://t1.daumcdn.net/cfile/tistory/99CDCC33599AC28F07\" alt=\"편향과 분산\" width=\"40%\" />\n",
        "\n",
        " Bias(편향) 오차와 Variance(분산) 오차를 표현\n",
        "\n",
        "</center>"
      ]
    },
    {
      "cell_type": "markdown",
      "metadata": {
        "id": "DCz1n8fCZJbs"
      },
      "source": [
        "- bias 감소가 variance의 증가와 같아지는 최적의 point를 찾아야 함\n",
        "- Overfitting 문제 해결 : 데이터의 복잡도 줄이기, 정규화를 통한 분산 감소\n",
        "\n",
        "<center>\n",
        " <img src=\"https://img1.daumcdn.net/thumb/R1280x0/?scode=mtistory2&fname=http%3A%2F%2Fcfile9.uf.tistory.com%2Fimage%2F996DB433599AC34225B9BD\" alt=\"모델 복잡도\" width=\"40%\" />\n",
        "\n",
        " 모델 복잡도\n",
        "\n",
        "</center>\n",
        "\n",
        "\n"
      ]
    },
    {
      "cell_type": "markdown",
      "metadata": {
        "id": "7a3qwvESZMaO"
      },
      "source": [
        "\n",
        "|구분| 모델 복잡도| 적합성|\n",
        "|---|---|---|\n",
        "|Bias 오차가 낮은 & Variance 오차가 높은|복잡| 과대적합(over fitting)|\n",
        " |Bias 오차가 높은 Variance 오차가 낮은| 단순| 과소적합(under fitting)|\n",
        "\n",
        "* Bias(편향) 에러가 높아지는 것은  많은 데이터를 고려하지 않아 (=모델이 너무 단순)  정확한 예측을 하지 못하는 경우\n",
        "\n",
        "* Variance(분산) 에러는 노이즈까지 전부 학습하여 (=모델이 너무 복잡) 약간의 input에도 예측 Y 값이 크게 흔들리는 것\n",
        "\n",
        "이 두가지 에러가 상호 Trade-off 관계에 있어서 이 둘을 모두 잡는 것은 불가능 한 딜레마가 발생"
      ]
    },
    {
      "cell_type": "markdown",
      "metadata": {
        "id": "2eYclfVCZPeR"
      },
      "source": [
        "정규화(Regularization, 규제)\n",
        "\n",
        "- 과대적합이 되지 않도록 모델을 강제로 제한하는 것을 의미.\n",
        "- 가중치(w)의 값을 조정하여 제약을 주는 것.\n",
        "\n",
        "- L1 규제 : Lasso\n",
        "  - <font  color=yellow>w의 모든 원소에 똑같은 힘으로 규제를 적용하는 방법. 특정 계수들은 0이 됨.      \n",
        "  - 특성선택(Feature Selection)이 자동으로 이루어진다.</font>\n",
        "\n",
        "- L2 규제 : Ridge\n",
        "  - <font  color=yellow>w의 모든 원소에 골고루 규제를 적용하여 0에 가깝게 만든다.</font>\n"
      ]
    },
    {
      "cell_type": "markdown",
      "metadata": {
        "id": "vz9i9VBwZSow"
      },
      "source": [
        "## Ridge Regression"
      ]
    },
    {
      "cell_type": "markdown",
      "metadata": {
        "id": "ZqXy2tCZZUlI"
      },
      "source": [
        "평균제곱오차식에 alpha 항이 추가\n",
        "- alpha 값을 크게 하면 패널티 효과가 커지고(가중치 감소),\n",
        "- alpha 값을 작게 하면 그 반대가 된다."
      ]
    },
    {
      "cell_type": "markdown",
      "metadata": {
        "id": "0vCG1lQ6ZWax"
      },
      "source": [
        "- 기존 선형회귀에서는 적절한 가중치와 편향을 찾아내는 것이 관건\n",
        "- 추가적인 제약 조건(규제항)을 포함 – 가중치에 대한 제곱의 합을 사용\n",
        "- <font  color=yellow>MSE가 최소가 되게 하는 가중치(w)와 편향(b)을 찾는</font> 동시에 <font  color=yellow> MSE와 규제항의 합이 최소</font>가 되어야 함 -> 가중치 W의 모든 원소가 0이 되거나 0에 근사하도록 -> <font  color=yellow>학습한 가중치 (W)의 제곱을 규제항 (L2 규제)</font>으로 사용\n",
        "\n",
        "> \\\\( cost(W,b)\\\\ =MSE+규제항\\\\ =MSE+\\alpha \\cdot { L }_{ 2 }norm\\\\ =\\cfrac { 1 }{ m } \\sum\\limits _{ i=1 }^{ m }{ (H({ x }^{ (i) })-{ y }^{ (i) }) } ^{ 2 }+\\alpha \\sum\\limits _{ j=1 }^{ n }{ { w }_{ j }^{ 2 } } \\\\ (n : 가중치의 개수, α : 규제의 정도) \\\\)\n",
        "\n",
        "> MSE에 의한 Overfitting을 줄이기 위해 α를 크게 함 -> 정확도 감소 -> α가 너무 크면 MSE의 비중이 작아져서 과소적합 가능성 증가\n",
        "\n",
        "- α가 증가하면 bias는 증가하고 variance는 감소하며 α가 0이 되면 MSE와 동일하게 되어 선형 회귀모델이 됨 -> Ridge 모델은 <font  color=yellow>bias을 약간 손해보면서 variance를 크게 줄여</font> 성능의 향상\n",
        "- 단점 : <font  color=yellow>몇몇 변수가 중요하더라도 모든 변수에 대해 적합을 해야 하고 완벽한 0은 나오지 않음</font> -> 예측의 문제가 아니라 해석의 문제"
      ]
    },
    {
      "cell_type": "markdown",
      "metadata": {
        "id": "wxhO2pbzZaJ1"
      },
      "source": [
        "Ridge()\n",
        "```\n",
        "Ridge(alpha, fit_intercept, normalize, copy_X, max_iter, tol, solver, random_state)\n",
        "```\n",
        "\n",
        "- alpha : 값이 클수록 강력한 정규화(규제) 설정하여 분산을 줄임, 양수로 설정\n",
        "- fit_intercept : 모형에 상수항 (절편)이 있는가 없는가를 결정하는 인수 (default : True)\n",
        "- normalize : 매개변수 무시 여부\n",
        "- copy_X : X의 복사 여부\n",
        "- max_iter : 계산에 사용할 작업 수\n",
        "- tol : 정밀도\n",
        "- solver : 계산에 사용할 알고리즘 (auto, svd, cholesky, lsqr, sparse_cg, sag, saga)\n",
        "- random_state : 난수 seed 설정\n"
      ]
    },
    {
      "cell_type": "code",
      "metadata": {
        "colab": {
          "base_uri": "https://localhost:8080/",
          "height": 310
        },
        "id": "7ztTl599Y-36",
        "outputId": "89558a28-b136-4aad-c53f-a2b389d3cffc"
      },
      "source": [
        "!pip install mglearn\n",
        "import mglearn\n",
        "import sklearn\n",
        "sklearn.__version__"
      ],
      "execution_count": null,
      "outputs": [
        {
          "output_type": "stream",
          "text": [
            "Requirement already satisfied: mglearn in /usr/local/lib/python3.7/dist-packages (0.1.9)\n",
            "Requirement already satisfied: pandas in /usr/local/lib/python3.7/dist-packages (from mglearn) (1.1.5)\n",
            "Requirement already satisfied: cycler in /usr/local/lib/python3.7/dist-packages (from mglearn) (0.10.0)\n",
            "Requirement already satisfied: numpy in /usr/local/lib/python3.7/dist-packages (from mglearn) (1.19.5)\n",
            "Requirement already satisfied: joblib in /usr/local/lib/python3.7/dist-packages (from mglearn) (1.0.1)\n",
            "Requirement already satisfied: imageio in /usr/local/lib/python3.7/dist-packages (from mglearn) (2.4.1)\n",
            "Requirement already satisfied: matplotlib in /usr/local/lib/python3.7/dist-packages (from mglearn) (3.2.2)\n",
            "Requirement already satisfied: scikit-learn in /usr/local/lib/python3.7/dist-packages (from mglearn) (0.22.2.post1)\n",
            "Requirement already satisfied: pillow in /usr/local/lib/python3.7/dist-packages (from mglearn) (7.1.2)\n",
            "Requirement already satisfied: six in /usr/local/lib/python3.7/dist-packages (from cycler->mglearn) (1.15.0)\n",
            "Requirement already satisfied: pyparsing!=2.0.4,!=2.1.2,!=2.1.6,>=2.0.1 in /usr/local/lib/python3.7/dist-packages (from matplotlib->mglearn) (2.4.7)\n",
            "Requirement already satisfied: python-dateutil>=2.1 in /usr/local/lib/python3.7/dist-packages (from matplotlib->mglearn) (2.8.1)\n",
            "Requirement already satisfied: kiwisolver>=1.0.1 in /usr/local/lib/python3.7/dist-packages (from matplotlib->mglearn) (1.3.1)\n",
            "Requirement already satisfied: pytz>=2017.2 in /usr/local/lib/python3.7/dist-packages (from pandas->mglearn) (2018.9)\n",
            "Requirement already satisfied: scipy>=0.17.0 in /usr/local/lib/python3.7/dist-packages (from scikit-learn->mglearn) (1.4.1)\n"
          ],
          "name": "stdout"
        },
        {
          "output_type": "execute_result",
          "data": {
            "application/vnd.google.colaboratory.intrinsic+json": {
              "type": "string"
            },
            "text/plain": [
              "'0.22.2.post1'"
            ]
          },
          "metadata": {
            "tags": []
          },
          "execution_count": 2
        }
      ]
    },
    {
      "cell_type": "markdown",
      "metadata": {
        "id": "JujfC6KdbbjM"
      },
      "source": [
        "#### Ridge_Lasso_Regression 실습 01\n",
        "\n",
        "확장 보스턴 집값 셋에 선형회귀 적용"
      ]
    },
    {
      "cell_type": "code",
      "metadata": {
        "id": "iHBOuHXvZdjA"
      },
      "source": [
        "import numpy as np\n",
        "import matplotlib.pyplot as plt\n",
        "from sklearn.linear_model import LinearRegression, Ridge, Lasso, ElasticNet\n",
        "%matplotlib inline"
      ],
      "execution_count": null,
      "outputs": []
    },
    {
      "cell_type": "code",
      "metadata": {
        "colab": {
          "base_uri": "https://localhost:8080/"
        },
        "id": "QsLiE_xDbfJL",
        "outputId": "277913cd-7bc8-4f02-b2fc-884d9abdbbf6"
      },
      "source": [
        "# 확장 보스턴 집값\n",
        "import mglearn\n",
        "from sklearn.model_selection import train_test_split\n",
        "\n",
        "X, y = mglearn.datasets.load_extended_boston()\n",
        "X_train, X_test, y_train, y_test = train_test_split(X, y, random_state=0)\n",
        "X_train.shape"
      ],
      "execution_count": null,
      "outputs": [
        {
          "output_type": "execute_result",
          "data": {
            "text/plain": [
              "(379, 104)"
            ]
          },
          "metadata": {
            "tags": []
          },
          "execution_count": 5
        }
      ]
    },
    {
      "cell_type": "code",
      "metadata": {
        "colab": {
          "base_uri": "https://localhost:8080/"
        },
        "id": "TwpqvfW_bgsG",
        "outputId": "247a387f-eafc-45f0-db5b-78e40ca0c73c"
      },
      "source": [
        "model = LinearRegression().fit(X_train, y_train)\n",
        "print('훈련점수 :' , model.score(X_train, y_train))\n",
        "print('테스트점수 :' , model.score(X_test, y_test))\n"
      ],
      "execution_count": null,
      "outputs": [
        {
          "output_type": "stream",
          "text": [
            "훈련점수 : 0.9520519609032727\n",
            "테스트점수 : 0.6074721959665571\n"
          ],
          "name": "stdout"
        }
      ]
    },
    {
      "cell_type": "code",
      "metadata": {
        "colab": {
          "base_uri": "https://localhost:8080/"
        },
        "id": "1cZZW20GcT80",
        "outputId": "f47a8a8b-1d48-4358-fea5-6e474aa6b277"
      },
      "source": [
        "# model_ridge \n",
        "model_ridge = Ridge().fit(X_train, y_train)\n",
        "\n",
        "print('훈련점수 :' , model_ridge.score(X_train, y_train))\n",
        "print('테스트점수 :' , model_ridge.score(X_test, y_test))\n"
      ],
      "execution_count": null,
      "outputs": [
        {
          "output_type": "stream",
          "text": [
            "훈련점수 : 0.8857966585170942\n",
            "테스트점수 : 0.7527683481744757\n"
          ],
          "name": "stdout"
        }
      ]
    },
    {
      "cell_type": "code",
      "metadata": {
        "colab": {
          "base_uri": "https://localhost:8080/"
        },
        "id": "JF5CQNH0ccNj",
        "outputId": "977e2a53-813a-4bf7-a828-44266a854b4a"
      },
      "source": [
        "model_ridge_10 = Ridge(alpha=10).fit(X_train, y_train)\n",
        "\n",
        "print('훈련점수 :' , model_ridge_10.score(X_train, y_train))\n",
        "print('테스트점수 :' , model_ridge_10.score(X_test, y_test))"
      ],
      "execution_count": null,
      "outputs": [
        {
          "output_type": "stream",
          "text": [
            "훈련점수 : 0.7882787115369615\n",
            "테스트점수 : 0.6359411489177311\n"
          ],
          "name": "stdout"
        }
      ]
    },
    {
      "cell_type": "code",
      "metadata": {
        "colab": {
          "base_uri": "https://localhost:8080/"
        },
        "id": "oq5kTlwkcrus",
        "outputId": "c3d9d36d-d658-4af9-f83b-2a11ebbce058"
      },
      "source": [
        "model_ridge_01 = Ridge(alpha=0.1).fit(X_train, y_train)\n",
        "\n",
        "print('훈련점수 :' , model_ridge_01.score(X_train, y_train))\n",
        "print('테스트점수 :' , model_ridge_01.score(X_test, y_test))"
      ],
      "execution_count": null,
      "outputs": [
        {
          "output_type": "stream",
          "text": [
            "훈련점수 : 0.9282273685001985\n",
            "테스트점수 : 0.7722067936480157\n"
          ],
          "name": "stdout"
        }
      ]
    },
    {
      "cell_type": "code",
      "metadata": {
        "colab": {
          "base_uri": "https://localhost:8080/",
          "height": 309
        },
        "id": "h2Z7vEpGdIob",
        "outputId": "6fde41f8-580c-42a8-bae4-198bd291983b"
      },
      "source": [
        "# 릿지 alpha값 변화에 따른 가중치( coef_ ) 시각화\n",
        "plt.plot(model_ridge_10.coef_, '^', label='Ridge alpha=10') \n",
        "plt.plot(model_ridge.coef_, 's', label='Ridge alpha=1') \n",
        "plt.plot(model_ridge_01.coef_, 'v', label='Ridge alpha=0.1')\n",
        "plt.plot(model.coef_, 'o', label='LinearRegression') \n",
        "plt.ylim(-25,25)\n",
        "plt.hlines(0,0, len(model.coef_))\n",
        "plt.legend(ncol=2, loc=(0,1.05))\n",
        "plt.show()"
      ],
      "execution_count": null,
      "outputs": [
        {
          "output_type": "display_data",
          "data": {
            "image/png": "[encoded data removed]",
            "text/plain": [
              "<Figure size 432x288 with 1 Axes>"
            ]
          },
          "metadata": {
            "tags": [],
            "needs_background": "light"
          }
        }
      ]
    },
    {
      "cell_type": "markdown",
      "metadata": {
        "id": "UhIEURmWc-dG"
      },
      "source": [
        "## Lasso Regression"
      ]
    },
    {
      "cell_type": "markdown",
      "metadata": {
        "id": "oHAta00NdA-G"
      },
      "source": [
        "- 릿지 회귀의 단점을 해결하기 위해 대안으로 나온 방법\n",
        "학습한 가중치의 절대값을 규제항(L1 규제)으로 사용 – 가중치의 절대값의 합을 사용\n",
        "- 학습한 가중치의 절대값을 규제항(L1 규제)으로 사용 – 가중치의 절대값의 합을 사용\n",
        "\n",
        ">$$  \\begin{align} \n",
        "cost(W,b)   \\\\ \n",
        "& =MSE+규제항 \\\\  \n",
        "& =MSE+\\alpha \\cdot { L }_{ 1 }norm \\\\  \n",
        "& =\\cfrac { 1 }{ m } \\sum\\limits_{ i=1 }^{ m }{ (H({ x }^{ (i) })-{ y }^{ (i) }) } ^{ 2 }+\\alpha \\sum\\limits_{ j=1 }^{ n }{ \\left| { w }_{ j } \\right|  }  \\\\\n",
        "& (n:가중치의개수,α:규제의정도)  \\end{align} $$\n",
        "\n",
        "\n",
        "- 적당한 α만으로 몇몇 계수를 정확하게 0으로 만들 수 있음 -> 해석을 용이하게 함\n",
        "- MSE와 규제항의 합이 최소가 되게 하는 파라미터 W와 b를 찾는 것이 Lasso의 목표\n",
        "- MSE항이 작아질 수록 오차가 작아지고, L1-norm이 작아질 수록 많은 가중치들이 0이 되거나 0에 가까워짐 -> 데이터 전 처리에 주로 사용 (필요 없는 데이터 제거)\n",
        "- Ridge와 Lasso의 성능 차이는 사용하는 데이터의 상황에 따라 다름 -> 유의미한 변수가 적을 때는 Lasso가 반대의 경우는 Ridge가 더 좋은 성능을 보임."
      ]
    },
    {
      "cell_type": "markdown",
      "metadata": {
        "id": "DILlCX_9gB3F"
      },
      "source": [
        "Lasso()\n",
        "```\n",
        "Lasso(alpha, fit_intercept, normalize, precompute, copy_X, max_iter, tol, warm_start, positive, solver, random_state, selection)\n",
        "```\n",
        "- alpha : 값이 클수록 강력한 정규화(규제) 설정하여 분산을 줄임, 양수로 설정\n",
        "- fit_intercept : 모형에 상수항 (절편)이 있는가 없는가를 결정하는 인수 (default : True)\n",
        "- normalize : 매개변수 무시 여부\n",
        "- precompute : 계산속도를 높이기 위해 미리 계산된 그램 매트릭스를 사용할 것인지 여부\n",
        "- copy_X : X의 복사 여부\n",
        "- max_iter : 계산에 사용할 작업 수\n",
        "- tol : 정밀도\n",
        "- warm_start : 이전 모델을 초기화로 적합하게 사용할 것인지 여부\n",
        "- positive : 계수가 양수로 사용할 것인지 여부\n",
        "- solver : 계산에 사용할 알고리즘 (auto, svd, cholesky, lsqr, sparse_cg, sag, saga)\n",
        "- random_state : 난수 seed 설정\n",
        "- selection : 계수의 업데이트 방법 설정 (random으로 설정하면 tol이 1e-4보다 높을 때 빠른 수렴)"
      ]
    },
    {
      "cell_type": "code",
      "metadata": {
        "colab": {
          "base_uri": "https://localhost:8080/"
        },
        "id": "jIuvxBQJc93p",
        "outputId": "bbe2fa9e-eea5-41be-93e2-969d83a0a838"
      },
      "source": [
        "from sklearn.linear_model import Lasso\n",
        "\n",
        "# lasso\n",
        "model_lasso = Lasso().fit(X_train, y_train)\n",
        "\n",
        "print('훈련점수 :' , model_lasso.score(X_train, y_train))\n",
        "print('테스트점수 :' , model_lasso.score(X_test, y_test))\n",
        "print('사용한 특성 수 :' , np.sum(model_lasso.coef_ !=0))"
      ],
      "execution_count": null,
      "outputs": [
        {
          "output_type": "stream",
          "text": [
            "훈련점수 : 0.29323768991114607\n",
            "테스트점수 : 0.20937503255272294\n",
            "사용한 특성 수 : 4\n"
          ],
          "name": "stdout"
        }
      ]
    },
    {
      "cell_type": "code",
      "metadata": {
        "colab": {
          "base_uri": "https://localhost:8080/"
        },
        "id": "LpNWqskZc51I",
        "outputId": "22308ee9-4928-47fa-b7a3-44b2d07fc949"
      },
      "source": [
        "model_lasso_001 = Lasso(alpha=0.01, max_iter=10000).fit(X_train, y_train)\n",
        "\n",
        "print('훈련점수 :' , model_lasso_001.score(X_train, y_train))\n",
        "print('테스트점수 :' , model_lasso_001.score(X_test, y_test))\n",
        "print('사용한 특성 수 :' , np.sum(model_lasso_001.coef_ !=0))"
      ],
      "execution_count": null,
      "outputs": [
        {
          "output_type": "stream",
          "text": [
            "훈련점수 : 0.8962226511086497\n",
            "테스트점수 : 0.7656571174549982\n",
            "사용한 특성 수 : 33\n"
          ],
          "name": "stdout"
        }
      ]
    },
    {
      "cell_type": "code",
      "metadata": {
        "colab": {
          "base_uri": "https://localhost:8080/"
        },
        "id": "TRifc1_4g-SF",
        "outputId": "42954e28-fc8d-4c53-edd6-5ae3eba38296"
      },
      "source": [
        "model_lasso_00001 = Lasso(alpha=0.0001, max_iter=100000).fit(X_train, y_train)\n",
        "\n",
        "print('훈련점수 :' , model_lasso_00001.score(X_train, y_train))\n",
        "print('테스트점수 :' , model_lasso_00001.score(X_test, y_test))\n",
        "print('사용한 특성 수 :' , np.sum(model_lasso_00001.coef_ !=0))"
      ],
      "execution_count": null,
      "outputs": [
        {
          "output_type": "stream",
          "text": [
            "훈련점수 : 0.9507158754515463\n",
            "테스트점수 : 0.6437467421272822\n",
            "사용한 특성 수 : 96\n"
          ],
          "name": "stdout"
        }
      ]
    },
    {
      "cell_type": "code",
      "metadata": {
        "colab": {
          "base_uri": "https://localhost:8080/",
          "height": 309
        },
        "id": "v83ZIgpth5s_",
        "outputId": "46898af8-a3a3-4f95-bad9-58d1846bbbca"
      },
      "source": [
        "#lasso alpha값 변화에 따른 가중치( coef_ ) 시각화\n",
        "plt.plot(model_lasso.coef_, '^', label='lasso alpha=1') \n",
        "plt.plot(model_lasso_001.coef_, 's', label='lasso alpha=0.01') \n",
        "plt.plot(model_lasso_00001.coef_, 'v', label='lasso alpha=0.0001')\n",
        "plt.plot(model.coef_, 'o', label='LinearRegression') \n",
        "plt.ylim(-25,25)\n",
        "plt.hlines(0,0, len(model.coef_))\n",
        "plt.legend(ncol=2, loc=(0,1.05))\n",
        "plt.show()"
      ],
      "execution_count": null,
      "outputs": [
        {
          "output_type": "display_data",
          "data": {
            "image/png": "[encoded data removed]",
            "text/plain": [
              "<Figure size 432x288 with 1 Axes>"
            ]
          },
          "metadata": {
            "tags": [],
            "needs_background": "light"
          }
        }
      ]
    },
    {
      "cell_type": "markdown",
      "metadata": {
        "id": "XoOokCuqmU-O"
      },
      "source": [
        "*이탤릭체 텍스트*## ElasticNet Regression"
      ]
    },
    {
      "cell_type": "markdown",
      "metadata": {
        "id": "2Y5FthJemarO"
      },
      "source": [
        "- 선형 회귀에 2가지 규제항 (L1 규제항, L2 규제항)을 추가한 것\n",
        "\n",
        "> \\begin{align}\n",
        "cost(W,b)\\\\ \n",
        "& =MSE+규제항\\\\\n",
        "& =MSE+ { \\alpha }_{ 1 }\\cdot { L }_{ 1 }norm + { \\alpha }_{ 2 }\\cdot { L }_{ 2 }norm\\\\\n",
        "& =\\cfrac { 1 }{ m } \\sum\\limits _{ i=1 }^{ m }{ (H({ x }^{ (i) })-{ y }^{ (i) }) } ^{ 2 } +\\alpha _{ 1 }\\sum\\limits _{ j=1 }^{ n }{ \\left| { w }_{ j } \\right|  +\\alpha _{ 2 }\\sum\\limits_{ j=1 }^{ n }{ { w }_{ j }^{ 2 } } } \\\\\n",
        "& (n:가중치의개수,α:규제의정도) \\end{align}"
      ]
    },
    {
      "cell_type": "markdown",
      "metadata": {
        "id": "0xSj8AFpmdfK"
      },
      "source": [
        "ElasticNet()\n",
        "```\n",
        "ElasticNet(alpha, l1_ratio, fit_intercept, normalize, precompute, max_iter, copy_X,\n",
        "tol, warm_start, positive, random_state, selection)\n",
        "```\n",
        "- alpha : 값이 클수록 강력한 정규화(규제) 설정하여 분산을 줄임, 양수로 설정\n",
        "- l1_ratio : L1 규제의 비율 (혼합비율?)\n",
        "- fit_intercept : 모형에 상수항 (절편)이 있는가 없는가를 결정하는 인수 (default : True)\n",
        "- normalize : 매개변수 무시 여부\n",
        "- precompute : 계산속도를 높이기 위해 미리 계산된 그램 매트릭스를 사용할 것인지 여부\n",
        "- copy_X : X의 복사 여부\n",
        "- max_iter : 계산에 사용할 작업 수\n",
        "- tol : 정밀도\n",
        "- warm_start : 이전 모델을 초기화로 적합하게 사용할 것인지 여부\n",
        "- positive : 계수가 양수로 사용할 것인지 여부\n",
        "- random_state : 난수 seed 설정\n",
        "- selection : 계수의 업데이트 방법 설정 (random으로 설정하면 tol이 1e-4보다 높을 때 빠른 수렴)"
      ]
    },
    {
      "cell_type": "code",
      "metadata": {
        "colab": {
          "base_uri": "https://localhost:8080/",
          "height": 282
        },
        "id": "dpXvOjF0ihFx",
        "outputId": "0f2ac1dc-f926-44a7-9334-b3f74552cb69"
      },
      "source": [
        "import numpy as np\n",
        "import matplotlib.pyplot as plt\n",
        "%matplotlib inline\n",
        "\n",
        "n = 100\n",
        "x = 6* np.random.rand(n, 1) -3\n",
        "y = 0.5 * x**2 +1 * x + 2 + np.random.rand(n, 1)\n",
        "plt.scatter(x, y, s=5)\n",
        "\n"
      ],
      "execution_count": null,
      "outputs": [
        {
          "output_type": "execute_result",
          "data": {
            "text/plain": [
              "<matplotlib.collections.PathCollection at 0x7fc7334c2e90>"
            ]
          },
          "metadata": {
            "tags": []
          },
          "execution_count": 43
        },
        {
          "output_type": "display_data",
          "data": {
            "image/png": "[encoded data removed]",
            "text/plain": [
              "<Figure size 432x288 with 1 Axes>"
            ]
          },
          "metadata": {
            "tags": [],
            "needs_background": "light"
          }
        }
      ]
    },
    {
      "cell_type": "code",
      "metadata": {
        "colab": {
          "base_uri": "https://localhost:8080/"
        },
        "id": "-GIpvy9Jn7FJ",
        "outputId": "8018a969-496d-42cf-e1aa-9a96e88497b9"
      },
      "source": [
        "from sklearn.linear_model import LinearRegression\n",
        "from sklearn.preprocessing import PolynomialFeatures\n",
        "\n",
        "# 데이터 변환 과정과 머신러닝을 연결해주는 파이프라인\n",
        "from sklearn.pipeline import make_pipeline\n",
        "\n",
        "ploy_features = PolynomialFeatures( degree=2, include_bias=False)\n",
        "x_poly = ploy_features.fit_transform(x)\n",
        "x.shape, x_poly.shape\n",
        "\n"
      ],
      "execution_count": null,
      "outputs": [
        {
          "output_type": "execute_result",
          "data": {
            "text/plain": [
              "((100, 1), (100, 2))"
            ]
          },
          "metadata": {
            "tags": []
          },
          "execution_count": 46
        }
      ]
    },
    {
      "cell_type": "code",
      "metadata": {
        "colab": {
          "base_uri": "https://localhost:8080/"
        },
        "id": "3zrHF7_pn9XQ",
        "outputId": "161056bc-117a-48f8-d064-731a6047666b"
      },
      "source": [
        "x[0], x_poly[0]"
      ],
      "execution_count": null,
      "outputs": [
        {
          "output_type": "execute_result",
          "data": {
            "text/plain": [
              "(array([-0.74670397]), array([-0.74670397,  0.55756681]))"
            ]
          },
          "metadata": {
            "tags": []
          },
          "execution_count": 47
        }
      ]
    },
    {
      "cell_type": "code",
      "metadata": {
        "colab": {
          "base_uri": "https://localhost:8080/"
        },
        "id": "vNzf9fqnpJJN",
        "outputId": "136d2e8c-c5d4-4cff-a04e-f2a40538d6f7"
      },
      "source": [
        "model = LinearRegression().fit(x_poly, y)\n",
        "model.coef_ , model.intercept_"
      ],
      "execution_count": null,
      "outputs": [
        {
          "output_type": "execute_result",
          "data": {
            "text/plain": [
              "(array([[0.97218008, 0.52515827]]), array([2.44051821]))"
            ]
          },
          "metadata": {
            "tags": []
          },
          "execution_count": 48
        }
      ]
    },
    {
      "cell_type": "code",
      "metadata": {
        "colab": {
          "base_uri": "https://localhost:8080/"
        },
        "id": "yL9S47gKpgb2",
        "outputId": "4d491002-5611-4800-97e9-80e19470863e"
      },
      "source": [
        "model_lr = make_pipeline(PolynomialFeatures(degree=2, include_bias=False),\n",
        "                         LinearRegression())\n",
        "model_lr.fit(x,y)"
      ],
      "execution_count": null,
      "outputs": [
        {
          "output_type": "execute_result",
          "data": {
            "text/plain": [
              "Pipeline(memory=None,\n",
              "         steps=[('polynomialfeatures',\n",
              "                 PolynomialFeatures(degree=2, include_bias=False,\n",
              "                                    interaction_only=False, order='C')),\n",
              "                ('linearregression',\n",
              "                 LinearRegression(copy_X=True, fit_intercept=True, n_jobs=None,\n",
              "                                  normalize=False))],\n",
              "         verbose=False)"
            ]
          },
          "metadata": {
            "tags": []
          },
          "execution_count": 50
        }
      ]
    },
    {
      "cell_type": "code",
      "metadata": {
        "colab": {
          "base_uri": "https://localhost:8080/"
        },
        "id": "1QKUWGC6qC-q",
        "outputId": "bfc5cd4b-155d-46ec-841b-c6d0d8f6b827"
      },
      "source": [
        "model_lr.steps[1][1].coef_"
      ],
      "execution_count": null,
      "outputs": [
        {
          "output_type": "execute_result",
          "data": {
            "text/plain": [
              "array([[0.97218008, 0.52515827]])"
            ]
          },
          "metadata": {
            "tags": []
          },
          "execution_count": 52
        }
      ]
    },
    {
      "cell_type": "code",
      "metadata": {
        "colab": {
          "base_uri": "https://localhost:8080/",
          "height": 282
        },
        "id": "yFDxSoQWqpAN",
        "outputId": "dd0e81c0-094b-4080-bff7-80358bed8b00"
      },
      "source": [
        "# 다항회귀 그래프\n",
        "plt.scatter(x,y,s=5)\n",
        "xx = np.linspace(-3, 3, 1000)# 다항회귀 그래프\n",
        "plt.scatter(x, y, s=5)\n",
        "xx = np.linspace(-3, 3, 1000)\n",
        "yy = model_lr.predict(xx[:, np.newaxis])  # xx.reshape(-1, 1)과 같음\n",
        "\n",
        "plt.plot(xx, yy)"
      ],
      "execution_count": null,
      "outputs": [
        {
          "output_type": "execute_result",
          "data": {
            "text/plain": [
              "[<matplotlib.lines.Line2D at 0x7fc73318fb90>]"
            ]
          },
          "metadata": {
            "tags": []
          },
          "execution_count": 56
        },
        {
          "output_type": "display_data",
          "data": {
            "image/png": "[encoded data removed]",
            "text/plain": [
              "<Figure size 432x288 with 1 Axes>"
            ]
          },
          "metadata": {
            "tags": [],
            "needs_background": "light"
          }
        }
      ]
    },
    {
      "cell_type": "markdown",
      "metadata": {
        "id": "WuX0dq9_s3WK"
      },
      "source": [
        "#### PolynomialFeatures()\n",
        "```\n",
        "PolynomialFeatures(degree=2, *, interaction_only=False, include_bias=True)\n",
        "```\n",
        "\n",
        "- degree : 차수\n",
        "- interaction_only: True면 2차항에서 상호작용항만 출력\n",
        "- include_bias : 상수항 생성 여부\n",
        "\n",
        "\n",
        "다항 변환\n",
        "\n",
        "- 입력값  x 를 다항식으로 변환한다.\n",
        "\n",
        "> \\\\( x \\;\\; \\rightarrow \\;\\; [ 1, x, x^2, x^3, \\cdots ] \\\\) <br>\n",
        " \n",
        "> 만약 열의 갯수가 두 개이고 2차 다항식으로 변환하는 경우에는 다음처럼 변환한다.\n",
        "\n",
        "> \\\\( [x_1, x_2] \\;\\; \\rightarrow \\;\\; [ 1, x_1, x_2, x_1^2, x_1x_2, x_2^2 ] \\\\)  <br>\n",
        "\n",
        "> 예) <br>\n",
        "> \\\\( [x_1=0, x_2=1]  \\;\\; \\rightarrow \\;\\; [1, 0, 1, 0, 0, 1] \\\\) <br>\n",
        "\n",
        "> \\\\( [x_1=2, x_2=3]  \\;\\; \\rightarrow \\;\\; [1,2,3,4,6,9] \\\\)\n",
        " \n"
      ]
    },
    {
      "cell_type": "code",
      "metadata": {
        "colab": {
          "base_uri": "https://localhost:8080/"
        },
        "id": "9QYmldFPq8aq",
        "outputId": "eeb06743-be0e-4f84-eb4d-db53e1ec5de5"
      },
      "source": [
        "from sklearn.preprocessing import PolynomialFeatures\n",
        "X = np.arange(6).reshape(3, 2)\n",
        "X"
      ],
      "execution_count": null,
      "outputs": [
        {
          "output_type": "execute_result",
          "data": {
            "text/plain": [
              "array([[0, 1],\n",
              "       [2, 3],\n",
              "       [4, 5]])"
            ]
          },
          "metadata": {
            "tags": []
          },
          "execution_count": 57
        }
      ]
    },
    {
      "cell_type": "code",
      "metadata": {
        "colab": {
          "base_uri": "https://localhost:8080/"
        },
        "id": "qG8Qocaos5Iy",
        "outputId": "35700d23-1b0b-4d7b-b446-439376a1bf85"
      },
      "source": [
        "poly = PolynomialFeatures(2)\n",
        "poly.fit_transform(X)"
      ],
      "execution_count": null,
      "outputs": [
        {
          "output_type": "execute_result",
          "data": {
            "text/plain": [
              "array([[ 1.,  0.,  1.,  0.,  0.,  1.],\n",
              "       [ 1.,  2.,  3.,  4.,  6.,  9.],\n",
              "       [ 1.,  4.,  5., 16., 20., 25.]])"
            ]
          },
          "metadata": {
            "tags": []
          },
          "execution_count": 58
        }
      ]
    },
    {
      "cell_type": "markdown",
      "metadata": {
        "id": "QF8sYG6LtPMc"
      },
      "source": [
        "## Linear / Ridge / Lasso / ElasticNet Regression의 비교"
      ]
    },
    {
      "cell_type": "markdown",
      "metadata": {
        "id": "IV0ptjTMtPFz"
      },
      "source": [
        "|구분| 릿지회귀| 라쏘회귀| 엘라스틱넷|\n",
        "|---|---|---|---|\n",
        "|제약식| L2 norm| L1 norm| L1+L2 norm|\n",
        "|변수선택 |불가능| 가능| 가능|\n",
        "|solution| closed form| 명시해 없음| 명시해 없음|\n",
        "|장점| 변수간 상관관계가 높아도 좋은 성능| 변수간 상관관계가 높으면 성능↓| 변수간 상관관계를 반영한 정규화|\n",
        "|특징| 크기가 큰 변수를 우선 적으로 줄임|비중요 변수를 우선적 으로 줄임|상관관계가 큰 변수를 동시에 선택/배제|"
      ]
    },
    {
      "cell_type": "code",
      "metadata": {
        "colab": {
          "base_uri": "https://localhost:8080/",
          "height": 282
        },
        "id": "_bosAhvOs6mH",
        "outputId": "44bae1f4-7c73-449e-cf09-27bd413d7292"
      },
      "source": [
        "import seaborn as sb\n",
        "\n",
        "np.random.seed(0)\n",
        "n_samples = 30\n",
        "X = np.sort(np.random.rand(n_samples)) \n",
        "y = np.sin(2 * np.pi * X) + np.random.rand(n_samples) * 0.1\n",
        "plt.scatter(X,y)\n"
      ],
      "execution_count": null,
      "outputs": [
        {
          "output_type": "execute_result",
          "data": {
            "text/plain": [
              "<matplotlib.collections.PathCollection at 0x7fc73308fc10>"
            ]
          },
          "metadata": {
            "tags": []
          },
          "execution_count": 64
        },
        {
          "output_type": "display_data",
          "data": {
            "image/png": "[encoded data removed]",
            "text/plain": [
              "<Figure size 432x288 with 1 Axes>"
            ]
          },
          "metadata": {
            "tags": [],
            "needs_background": "light"
          }
        }
      ]
    },
    {
      "cell_type": "code",
      "metadata": {
        "colab": {
          "base_uri": "https://localhost:8080/",
          "height": 337
        },
        "id": "CUZ9qeG0uJXU",
        "outputId": "f1207468-02fb-488e-c2bb-8ec3bd74b6c9"
      },
      "source": [
        "model_lr = make_pipeline(PolynomialFeatures(9), LinearRegression())\n",
        "model_lr.fit(X.reshape(-1, 1), y)\n",
        "print( model_lr.steps[1][1].coef_ )\n",
        "\n",
        "xx = np.linspace(0, 1, 1000)\n",
        "y_pred = model_lr.predict( xx.reshape(-1, 1) )\n",
        "plt.plot(xx, y_pred)\n",
        "plt.scatter(X, y)\n",
        "plt.ylim(-1.5, 1.5)"
      ],
      "execution_count": null,
      "outputs": [
        {
          "output_type": "stream",
          "text": [
            "[ 0.00000000e+00  7.78317548e+00  9.86678487e+00 -4.35959736e+02\n",
            "  2.87425798e+03 -9.61637716e+03  1.78671521e+04 -1.86394791e+04\n",
            "  1.02540980e+04 -2.32137252e+03]\n"
          ],
          "name": "stdout"
        },
        {
          "output_type": "execute_result",
          "data": {
            "text/plain": [
              "(-1.5, 1.5)"
            ]
          },
          "metadata": {
            "tags": []
          },
          "execution_count": 66
        },
        {
          "output_type": "display_data",
          "data": {
            "image/png": "[encoded data removed]",
            "text/plain": [
              "<Figure size 432x288 with 1 Axes>"
            ]
          },
          "metadata": {
            "tags": [],
            "needs_background": "light"
          }
        }
      ]
    },
    {
      "cell_type": "code",
      "metadata": {
        "colab": {
          "base_uri": "https://localhost:8080/",
          "height": 320
        },
        "id": "6YbIz5Qhtrp3",
        "outputId": "5531f369-ebc2-4865-f699-a4f83be7a884"
      },
      "source": [
        "model_lr = make_pipeline(PolynomialFeatures(9), Ridge(alpha=0.01))\n",
        "model_lr.fit(X.reshape(-1, 1), y)\n",
        "print( model_lr.steps[1][1].coef_ )\n",
        "\n",
        "xx = np.linspace(0, 1, 1000)\n",
        "y_pred = model_lr.predict( xx.reshape(-1, 1) )\n",
        "plt.plot(xx, y_pred)\n",
        "plt.scatter(X, y)\n",
        "plt.ylim(-1.5, 1.5)"
      ],
      "execution_count": null,
      "outputs": [
        {
          "output_type": "stream",
          "text": [
            "[  0.           5.65357337 -10.82011053  -5.05521144   2.04506098\n",
            "   5.48450212   5.3744445    2.91519199  -0.77584474  -4.91141149]\n"
          ],
          "name": "stdout"
        },
        {
          "output_type": "execute_result",
          "data": {
            "text/plain": [
              "(-1.5, 1.5)"
            ]
          },
          "metadata": {
            "tags": []
          },
          "execution_count": 67
        },
        {
          "output_type": "display_data",
          "data": {
            "image/png": "[encoded data removed]",
            "text/plain": [
              "<Figure size 432x288 with 1 Axes>"
            ]
          },
          "metadata": {
            "tags": [],
            "needs_background": "light"
          }
        }
      ]
    },
    {
      "cell_type": "code",
      "metadata": {
        "colab": {
          "base_uri": "https://localhost:8080/",
          "height": 374
        },
        "id": "6c9SvaW4vy1j",
        "outputId": "939fad1f-61e4-43cb-d3cc-8823b507e02b"
      },
      "source": [
        "model_lr = make_pipeline(PolynomialFeatures(9), Lasso(alpha=0.01))\n",
        "model_lr.fit(X.reshape(-1, 1), y)\n",
        "print( model_lr.steps[1][1].coef_ )\n",
        "\n",
        "xx = np.linspace(0, 1, 1000)\n",
        "y_pred = model_lr.predict( xx.reshape(-1, 1) )\n",
        "plt.plot(xx, y_pred)\n",
        "plt.scatter(X, y)\n",
        "plt.ylim(-1.5, 1.5)"
      ],
      "execution_count": null,
      "outputs": [
        {
          "output_type": "stream",
          "text": [
            "[ 0.          2.29711386 -6.56944059 -0.          0.          0.\n",
            "  1.88370343  2.27407731  0.          0.        ]\n"
          ],
          "name": "stdout"
        },
        {
          "output_type": "stream",
          "text": [
            "/usr/local/lib/python3.7/dist-packages/sklearn/linear_model/_coordinate_descent.py:476: ConvergenceWarning: Objective did not converge. You might want to increase the number of iterations. Duality gap: 0.004328390428244733, tolerance: 0.0010052499746308068\n",
            "  positive)\n"
          ],
          "name": "stderr"
        },
        {
          "output_type": "execute_result",
          "data": {
            "text/plain": [
              "(-1.5, 1.5)"
            ]
          },
          "metadata": {
            "tags": []
          },
          "execution_count": 70
        },
        {
          "output_type": "display_data",
          "data": {
            "image/png": "[encoded data removed]",
            "text/plain": [
              "<Figure size 432x288 with 1 Axes>"
            ]
          },
          "metadata": {
            "tags": [],
            "needs_background": "light"
          }
        }
      ]
    },
    {
      "cell_type": "code",
      "metadata": {
        "colab": {
          "base_uri": "https://localhost:8080/",
          "height": 320
        },
        "id": "YCORD6Dhv2Km",
        "outputId": "7f1dde74-0f40-427b-f270-a7618c4cfcfc"
      },
      "source": [
        "model_lr = make_pipeline(PolynomialFeatures(9), ElasticNet(alpha=0.01, l1_ratio=0.5))\n",
        "model_lr.fit(X.reshape(-1, 1), y)\n",
        "print( model_lr.steps[1][1].coef_ )\n",
        "\n",
        "xx = np.linspace(0, 1, 1000)\n",
        "y_pred = model_lr.predict( xx.reshape(-1, 1) )\n",
        "plt.plot(xx, y_pred)\n",
        "plt.scatter(X, y)\n",
        "plt.ylim(-1.5, 1.5)"
      ],
      "execution_count": null,
      "outputs": [
        {
          "output_type": "stream",
          "text": [
            "[ 0.         -0.80451361 -1.18663644 -0.44491772 -0.          0.\n",
            "  0.          0.2885885   0.59389391  0.79879077]\n"
          ],
          "name": "stdout"
        },
        {
          "output_type": "execute_result",
          "data": {
            "text/plain": [
              "(-1.5, 1.5)"
            ]
          },
          "metadata": {
            "tags": []
          },
          "execution_count": 73
        },
        {
          "output_type": "display_data",
          "data": {
            "image/png": "[encoded data removed]",
            "text/plain": [
              "<Figure size 432x288 with 1 Axes>"
            ]
          },
          "metadata": {
            "tags": [],
            "needs_background": "light"
          }
        }
      ]
    },
    {
      "cell_type": "code",
      "metadata": {
        "id": "dcpzwupiwNTu"
      },
      "source": [
        ""
      ],
      "execution_count": null,
      "outputs": []
    }
  ]
}