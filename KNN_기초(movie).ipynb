{
  "nbformat": 4,
  "nbformat_minor": 0,
  "metadata": {
    "colab": {
      "name": "KNN_기초(movie)",
      "provenance": [],
      "authorship_tag": "ABX9TyNTHk9OskbmODYhrdG0zLXA",
      "include_colab_link": true
    },
    "kernelspec": {
      "name": "python3",
      "display_name": "Python 3"
    },
    "language_info": {
      "name": "python"
    }
  },
  "cells": [
    {
      "cell_type": "markdown",
      "metadata": {
        "id": "view-in-github",
        "colab_type": "text"
      },
      "source": [
        "<a href=\"https://colab.research.google.com/github/wozzin/AI_ML/blob/main/KNN_%EA%B8%B0%EC%B4%88(movie).ipynb\" target=\"_parent\"><img src=\"https://colab.research.google.com/assets/colab-badge.svg\" alt=\"Open In Colab\"/></a>"
      ]
    },
    {
      "cell_type": "code",
      "metadata": {
        "id": "iNx4hubxe_AX"
      },
      "source": [
        "from sklearn.neighbors import KNeighborsRegressor"
      ],
      "execution_count": 1,
      "outputs": []
    },
    {
      "cell_type": "markdown",
      "metadata": {
        "id": "aqopr10ffHbN"
      },
      "source": [
        "#### K-NN 회귀 실습 01\n",
        "\n",
        "IMDb 영화 데이터 세트\n",
        "\n",
        "회귀에 대한 이야기니까 당연히 \"평이 좋다\" vs \"평이 나쁘다\" 레이블로 분류하는 게 아니라 <br>\n",
        "실제 IMDb 등급(별점)을 예측하는 것이 과제의 목표"
      ]
    },
    {
      "cell_type": "code",
      "metadata": {
        "colab": {
          "base_uri": "https://localhost:8080/"
        },
        "id": "5py4bSTAfH8p",
        "outputId": "3250aede-851e-49d0-8288-b64e830a2e30"
      },
      "source": [
        "# 영화에 대한 3개의 특성\n",
        "X_train = [\n",
        "  [0.5, 0.2, 0.1],\n",
        "  [0.9, 0.7, 0.3],\n",
        "  [0.4, 0.5, 0.7]\n",
        "]\n",
        "# 영화에 대한 별점\n",
        "y_train = [5.0, 6.8, 9.0]\n",
        "\n",
        "# 코드작성(모델)\n",
        "model = KNeighborsRegressor(n_neighbors=3) # weights = 'distance' >> 거리고려 // 데이터 적을 때 유용\n",
        "model.fit(X_train, y_train)\n",
        "\n",
        "\n",
        "# 새로운 영화 3건에 대해 별점을 예측\n",
        "X_test = [\n",
        "  [0.2, 0.1, 0.7],\n",
        "  [0.4, 0.7, 0.6],\n",
        "  [0.5, 0.8, 0.1]\n",
        "]\n",
        "\n",
        "# 코드작성(예측)\n",
        "pre = model.predict(X_test) # 이웃값이 3개 / y_train 값이 3개 라서 예측 3개의 값이 동일함\n",
        "pre"
      ],
      "execution_count": 6,
      "outputs": [
        {
          "output_type": "execute_result",
          "data": {
            "text/plain": [
              "array([6.93333333, 6.93333333, 6.93333333])"
            ]
          },
          "metadata": {
            "tags": []
          },
          "execution_count": 6
        }
      ]
    },
    {
      "cell_type": "code",
      "metadata": {
        "id": "CGNFF-jHfM3p"
      },
      "source": [
        ""
      ],
      "execution_count": null,
      "outputs": []
    }
  ]
}